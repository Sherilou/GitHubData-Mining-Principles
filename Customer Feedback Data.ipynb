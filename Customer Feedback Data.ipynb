{
 "cells": [
  {
   "cell_type": "code",
   "execution_count": 1,
   "id": "6b8d8fed-275d-4f5f-a205-2027356dba04",
   "metadata": {},
   "outputs": [],
   "source": [
    "import pandas as pd"
   ]
  },
  {
   "cell_type": "code",
   "execution_count": 2,
   "id": "4859054f-778b-4523-aed9-4690641d8ddd",
   "metadata": {},
   "outputs": [],
   "source": [
    "df = pd.read_csv('Customer_Feedback_Data.csv')"
   ]
  },
  {
   "cell_type": "code",
   "execution_count": 3,
   "id": "f3a117ee-fe2e-4201-8870-c2fe47d2f3f3",
   "metadata": {},
   "outputs": [
    {
     "data": {
      "text/html": [
       "<div>\n",
       "<style scoped>\n",
       "    .dataframe tbody tr th:only-of-type {\n",
       "        vertical-align: middle;\n",
       "    }\n",
       "\n",
       "    .dataframe tbody tr th {\n",
       "        vertical-align: top;\n",
       "    }\n",
       "\n",
       "    .dataframe thead th {\n",
       "        text-align: right;\n",
       "    }\n",
       "</style>\n",
       "<table border=\"1\" class=\"dataframe\">\n",
       "  <thead>\n",
       "    <tr style=\"text-align: right;\">\n",
       "      <th></th>\n",
       "      <th>Customer_ID</th>\n",
       "      <th>Satisfaction_Score</th>\n",
       "      <th>Feedback_Comments</th>\n",
       "      <th>Likelihood_to_Recommend</th>\n",
       "    </tr>\n",
       "  </thead>\n",
       "  <tbody>\n",
       "    <tr>\n",
       "      <th>0</th>\n",
       "      <td>1</td>\n",
       "      <td>10.0</td>\n",
       "      <td>Very satisfied</td>\n",
       "      <td>9</td>\n",
       "    </tr>\n",
       "    <tr>\n",
       "      <th>1</th>\n",
       "      <td>2</td>\n",
       "      <td>3.0</td>\n",
       "      <td>Very satisfied</td>\n",
       "      <td>3</td>\n",
       "    </tr>\n",
       "    <tr>\n",
       "      <th>2</th>\n",
       "      <td>3</td>\n",
       "      <td>10.0</td>\n",
       "      <td>Very satisfied</td>\n",
       "      <td>1</td>\n",
       "    </tr>\n",
       "    <tr>\n",
       "      <th>3</th>\n",
       "      <td>4</td>\n",
       "      <td>7.0</td>\n",
       "      <td>Needs improvement</td>\n",
       "      <td>4</td>\n",
       "    </tr>\n",
       "    <tr>\n",
       "      <th>4</th>\n",
       "      <td>5</td>\n",
       "      <td>8.0</td>\n",
       "      <td>Unsatisfactory</td>\n",
       "      <td>7</td>\n",
       "    </tr>\n",
       "  </tbody>\n",
       "</table>\n",
       "</div>"
      ],
      "text/plain": [
       "   Customer_ID  Satisfaction_Score  Feedback_Comments  Likelihood_to_Recommend\n",
       "0            1                10.0     Very satisfied                        9\n",
       "1            2                 3.0     Very satisfied                        3\n",
       "2            3                10.0     Very satisfied                        1\n",
       "3            4                 7.0  Needs improvement                        4\n",
       "4            5                 8.0     Unsatisfactory                        7"
      ]
     },
     "execution_count": 3,
     "metadata": {},
     "output_type": "execute_result"
    }
   ],
   "source": [
    "df.head()"
   ]
  },
  {
   "cell_type": "code",
   "execution_count": 4,
   "id": "ecfeb488-62e1-4912-9256-101e86be8203",
   "metadata": {},
   "outputs": [
    {
     "name": "stdout",
     "output_type": "stream",
     "text": [
      "Customer_ID                  0\n",
      "Satisfaction_Score         101\n",
      "Feedback_Comments            0\n",
      "Likelihood_to_Recommend      0\n",
      "dtype: int64\n"
     ]
    }
   ],
   "source": [
    "print(df.isnull().sum())"
   ]
  },
  {
   "cell_type": "code",
   "execution_count": 6,
   "id": "11372554-91a4-47ba-9cc1-8c051e83d2b5",
   "metadata": {},
   "outputs": [],
   "source": [
    "import pandas as pd"
   ]
  },
  {
   "cell_type": "code",
   "execution_count": 8,
   "id": "ca0beaf1-acb0-44ff-9aad-0efff746c6ca",
   "metadata": {},
   "outputs": [],
   "source": [
    "data = {'Satisfaction_Score': [4.5, 3.0, None, 5.0]}\n",
    "customer_feedback_Data = pd.DataFrame(data)"
   ]
  },
  {
   "cell_type": "code",
   "execution_count": 9,
   "id": "ddfaa761-7b28-4a3e-bda8-351c60df2892",
   "metadata": {},
   "outputs": [
    {
     "data": {
      "text/html": [
       "<div>\n",
       "<style scoped>\n",
       "    .dataframe tbody tr th:only-of-type {\n",
       "        vertical-align: middle;\n",
       "    }\n",
       "\n",
       "    .dataframe tbody tr th {\n",
       "        vertical-align: top;\n",
       "    }\n",
       "\n",
       "    .dataframe thead th {\n",
       "        text-align: right;\n",
       "    }\n",
       "</style>\n",
       "<table border=\"1\" class=\"dataframe\">\n",
       "  <thead>\n",
       "    <tr style=\"text-align: right;\">\n",
       "      <th></th>\n",
       "      <th>Satisfaction_Score</th>\n",
       "    </tr>\n",
       "  </thead>\n",
       "  <tbody>\n",
       "    <tr>\n",
       "      <th>0</th>\n",
       "      <td>4.5</td>\n",
       "    </tr>\n",
       "    <tr>\n",
       "      <th>1</th>\n",
       "      <td>3.0</td>\n",
       "    </tr>\n",
       "    <tr>\n",
       "      <th>2</th>\n",
       "      <td>NaN</td>\n",
       "    </tr>\n",
       "    <tr>\n",
       "      <th>3</th>\n",
       "      <td>5.0</td>\n",
       "    </tr>\n",
       "  </tbody>\n",
       "</table>\n",
       "</div>"
      ],
      "text/plain": [
       "   Satisfaction_Score\n",
       "0                 4.5\n",
       "1                 3.0\n",
       "2                 NaN\n",
       "3                 5.0"
      ]
     },
     "execution_count": 9,
     "metadata": {},
     "output_type": "execute_result"
    }
   ],
   "source": [
    "customer_feedback_Data"
   ]
  },
  {
   "cell_type": "code",
   "execution_count": 10,
   "id": "cf991188-0db4-4fc2-9ba8-c25708ccd900",
   "metadata": {},
   "outputs": [
    {
     "name": "stdout",
     "output_type": "stream",
     "text": [
      "   Satisfaction_Score\n",
      "0            4.500000\n",
      "1            3.000000\n",
      "2            4.166667\n",
      "3            5.000000\n"
     ]
    }
   ],
   "source": [
    "customer_feedback_Data['Satisfaction_Score'] = customer_feedback_Data['Satisfaction_Score'].fillna(\n",
    "    customer_feedback_Data['Satisfaction_Score'].mean()\n",
    ")\n",
    "print(customer_feedback_Data)"
   ]
  },
  {
   "cell_type": "code",
   "execution_count": 11,
   "id": "2c5f2083-2944-46bb-9a0d-51486e0680dc",
   "metadata": {},
   "outputs": [
    {
     "name": "stdout",
     "output_type": "stream",
     "text": [
      "   Satisfaction_Score\n",
      "0            4.500000\n",
      "1            3.000000\n",
      "2            4.166667\n",
      "3            5.000000\n"
     ]
    }
   ],
   "source": [
    "customer_feedback_Data = customer_feedback_Data.dropna(subset=['Satisfaction_Score'])\n",
    "print(customer_feedback_Data)"
   ]
  },
  {
   "cell_type": "code",
   "execution_count": 12,
   "id": "eef23797-c309-450e-a065-3d00f2314c9a",
   "metadata": {},
   "outputs": [
    {
     "name": "stdout",
     "output_type": "stream",
     "text": [
      "   Satisfaction_Score\n",
      "0            0.452911\n",
      "1           -1.585188\n",
      "2            0.000000\n",
      "3            1.132277\n"
     ]
    }
   ],
   "source": [
    "from sklearn.preprocessing import StandardScaler\n",
    "\n",
    "scaler = StandardScaler()\n",
    "customer_feedback_Data['Satisfaction_Score'] = scaler.fit_transform(\n",
    "    customer_feedback_Data[['Satisfaction_Score']]\n",
    ")\n",
    "print(customer_feedback_Data)"
   ]
  },
  {
   "cell_type": "code",
   "execution_count": 13,
   "id": "e941c7b1-1515-478a-b4d7-128336e1dab4",
   "metadata": {},
   "outputs": [
    {
     "name": "stdout",
     "output_type": "stream",
     "text": [
      "   Satisfaction_Score\n",
      "0            0.750000\n",
      "1            0.000000\n",
      "2            0.583333\n",
      "3            1.000000\n"
     ]
    }
   ],
   "source": [
    "from sklearn.preprocessing import MinMaxScaler\n",
    "\n",
    "scaler = MinMaxScaler()\n",
    "customer_feedback_Data['Satisfaction_Score'] = scaler.fit_transform(\n",
    "    customer_feedback_Data[['Satisfaction_Score']]\n",
    ")\n",
    "print(customer_feedback_Data)"
   ]
  },
  {
   "cell_type": "code",
   "execution_count": 14,
   "id": "a157a3e6-7ca4-4cef-ab51-4a06440edc63",
   "metadata": {},
   "outputs": [
    {
     "name": "stdout",
     "output_type": "stream",
     "text": [
      "       Satisfaction_Score\n",
      "count            4.000000\n",
      "mean             0.583333\n",
      "std              0.424918\n",
      "min              0.000000\n",
      "25%              0.437500\n",
      "50%              0.666667\n",
      "75%              0.812500\n",
      "max              1.000000\n"
     ]
    }
   ],
   "source": [
    "print(customer_feedback_Data.describe())"
   ]
  },
  {
   "cell_type": "code",
   "execution_count": 15,
   "id": "babadbab-7f64-4ce1-8b31-3d3d56b28aa7",
   "metadata": {},
   "outputs": [
    {
     "name": "stdout",
     "output_type": "stream",
     "text": [
      "4\n"
     ]
    }
   ],
   "source": [
    "print(customer_feedback_Data['Satisfaction_Score'].count())"
   ]
  },
  {
   "cell_type": "code",
   "execution_count": 16,
   "id": "28adfde6-fc55-460d-960a-a7afb56b0f81",
   "metadata": {},
   "outputs": [
    {
     "name": "stdout",
     "output_type": "stream",
     "text": [
      "   Satisfaction_Score Category\n",
      "0            0.750000      Low\n",
      "1            0.000000      Low\n",
      "2            0.583333      Low\n",
      "3            1.000000      Low\n"
     ]
    }
   ],
   "source": [
    "customer_feedback_Data['Category'] = customer_feedback_Data['Satisfaction_Score'].apply(\n",
    "    lambda x: 'High' if x >= 4 else 'Low'\n",
    ")\n",
    "print(customer_feedback_Data)"
   ]
  },
  {
   "cell_type": "code",
   "execution_count": 22,
   "id": "88c42354-03c4-42f2-b450-0429cdc12ef4",
   "metadata": {},
   "outputs": [],
   "source": [
    "customer_feedback_Data.to_csv('customer_feedback.csv', index=False)"
   ]
  },
  {
   "cell_type": "code",
   "execution_count": 23,
   "id": "760edbd0-7d23-4d74-aa35-3ec7e87879d7",
   "metadata": {},
   "outputs": [],
   "source": [
    "customer_feedback_Data.to_excel('customer_feedback.xlsx', index=False)"
   ]
  },
  {
   "cell_type": "code",
   "execution_count": 2,
   "id": "c6f8317e-9e24-4033-b310-7330a85f2f85",
   "metadata": {},
   "outputs": [
    {
     "name": "stdout",
     "output_type": "stream",
     "text": [
      "File saved successfully!\n"
     ]
    }
   ],
   "source": [
    "import os\n",
    "\n",
    "if os.path.exists('customer_feedback.xlsx'):\n",
    "    print(\"File saved successfully!\")\n",
    "else:\n",
    "    print(\"File not found.\")"
   ]
  },
  {
   "cell_type": "code",
   "execution_count": 3,
   "id": "2d779644-55fe-4b21-a314-cde2d6f60c1d",
   "metadata": {},
   "outputs": [
    {
     "name": "stdout",
     "output_type": "stream",
     "text": [
      "   Satisfaction_Score Category\n",
      "0            0.750000      Low\n",
      "1            0.000000      Low\n",
      "2            0.583333      Low\n",
      "3            1.000000      Low\n"
     ]
    }
   ],
   "source": [
    "import pandas as pd\n",
    "\n",
    "# Load the Excel file\n",
    "df = pd.read_excel('customer_feedback.xlsx')\n",
    "\n",
    "# Print the contents to verify\n",
    "print(df)"
   ]
  },
  {
   "cell_type": "code",
   "execution_count": 4,
   "id": "5db099cf-8745-4f9a-a444-3608c7b1eaf7",
   "metadata": {},
   "outputs": [
    {
     "name": "stdout",
     "output_type": "stream",
     "text": [
      "       Satisfaction_Score\n",
      "count            4.000000\n",
      "mean             0.583333\n",
      "std              0.424918\n",
      "min              0.000000\n",
      "25%              0.437500\n",
      "50%              0.666667\n",
      "75%              0.812500\n",
      "max              1.000000\n"
     ]
    }
   ],
   "source": [
    "print(df.describe())"
   ]
  },
  {
   "cell_type": "code",
   "execution_count": 5,
   "id": "c2017076-bfd7-4b8a-a164-181708bb1236",
   "metadata": {},
   "outputs": [
    {
     "data": {
      "image/png": "[encoded data removed]",
      "text/plain": [
       "<Figure size 640x480 with 1 Axes>"
      ]
     },
     "metadata": {},
     "output_type": "display_data"
    }
   ],
   "source": [
    "import matplotlib.pyplot as plt\n",
    "\n",
    "df['Satisfaction_Score'].hist(bins=5, color='blue')\n",
    "plt.xlabel('Satisfaction Score')\n",
    "plt.ylabel('Frequency')\n",
    "plt.title('Satisfaction Score Distribution')\n",
    "plt.show()"
   ]
  },
  {
   "cell_type": "code",
   "execution_count": 6,
   "id": "3cdebdea-79ec-4538-9cd1-0bc59a1cbd92",
   "metadata": {},
   "outputs": [
    {
     "name": "stdout",
     "output_type": "stream",
     "text": [
      "Training set:\n",
      "    Satisfaction_Score\n",
      "3            1.000000\n",
      "0            0.750000\n",
      "2            0.583333\n",
      "Testing set:\n",
      "    Satisfaction_Score\n",
      "1                 0.0\n"
     ]
    }
   ],
   "source": [
    "from sklearn.model_selection import train_test_split\n",
    "\n",
    "X = df[['Satisfaction_Score']]  # Features\n",
    "y = df['Category']  # Target variable (make sure 'Category' column exists)\n",
    "\n",
    "X_train, X_test, y_train, y_test = train_test_split(X, y, test_size=0.2, random_state=42)\n",
    "\n",
    "print(\"Training set:\\n\", X_train)\n",
    "print(\"Testing set:\\n\", X_test)"
   ]
  },
  {
   "cell_type": "markdown",
   "id": "56e7d453-1f19-4858-830f-9f9f45e7d7a6",
   "metadata": {},
   "source": [
    "1. What transformations did you apply to categorical variables?\n",
    "\n",
    "Categorical Transformation:\n",
    "\n",
    "In our dataset, the Category column is the only categorical feature that we created. We transformed the Satisfaction_Score into the Category feature by applying a binary classification rule:\n",
    "\n",
    "If Satisfaction_Score >= 4, label it as 'High'.\n",
    "If Satisfaction_Score < 4, label it as 'Low'.\n",
    "\n",
    "This transformation is useful if FinMark plans to perform a classification task based on satisfaction levels and wants to predict whether a customer will have a high or low satisfaction score.\n",
    "\n",
    "2.How did you create new features, and what purpose do they serve?\n",
    "\n",
    "New Feature Creation:\n",
    "\n",
    "We created the new Category feature by categorizing the Satisfaction_Score into two groups: 'High' and 'Low'.\n",
    "\n",
    "The Category feature serves as a target variable for classification tasks. It allows us to classify feedback as either \"High\" or \"Low\" satisfaction based on the Satisfaction_Score. By doing so, we can train a classification model to predict the satisfaction category of new data based on the Satisfaction_Score or other features.\n",
    "\n"
   ]
  },
  {
   "cell_type": "code",
   "execution_count": null,
   "id": "37d1a522-487c-478c-ba25-2695208ef14e",
   "metadata": {},
   "outputs": [],
   "source": []
  }
 ],
 "metadata": {
  "kernelspec": {
   "display_name": "Python 3 (ipykernel)",
   "language": "python",
   "name": "python3"
  },
  "language_info": {
   "codemirror_mode": {
    "name": "ipython",
    "version": 3
   },
   "file_extension": ".py",
   "mimetype": "text/x-python",
   "name": "python",
   "nbconvert_exporter": "python",
   "pygments_lexer": "ipython3",
   "version": "3.13.1"
  }
 },
 "nbformat": 4,
 "nbformat_minor": 5
}
